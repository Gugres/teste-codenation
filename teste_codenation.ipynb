{
 "cells": [
  {
   "cell_type": "code",
   "execution_count": 97,
   "metadata": {},
   "outputs": [],
   "source": [
    "# Path: /home/jovyan/work/gustavo/teste_codenation/teste_codenation.ipynb\n",
    "# docker cp pupxfinancejupyter:/home/jovyan/work/gustavo/teste_codenation/teste_codenation.ipynb ./teste_codenation.ipynb\n",
    "import pandas as pd\n",
    "import matplotlib.pyplot as plt\n",
    "import seaborn as sns\n",
    "import numpy as np\n",
    "from sklearn.linear_model import LinearRegression\n",
    "import statsmodels.api as sm"
   ]
  },
  {
   "cell_type": "code",
   "execution_count": 98,
   "metadata": {},
   "outputs": [],
   "source": [
    "df_train = pd.read_csv(\"train.csv\", index_col=\"NU_INSCRICAO\")\n",
    "df_test = pd.read_csv(\"test.csv\", index_col=\"NU_INSCRICAO\")"
   ]
  },
  {
   "cell_type": "code",
   "execution_count": 99,
   "metadata": {},
   "outputs": [],
   "source": [
    "df_train = df_train.iloc[:,1:]\n",
    "#df_train.head()\n",
    "#df_test.head()"
   ]
  },
  {
   "cell_type": "markdown",
   "metadata": {},
   "source": [
    "Variavel alvo: NU_NOTA_MT\n",
    "\n",
    "Variaveis que eu acredito mais influenciar: \n",
    "* TP_DEPENDENCIA_ADM_ESC -> Dependência administrativa (Escola)\n",
    "* TP_LOCALIZACAO_ESC -> Localização (Escola)\n",
    "* NU_NOTA_CN -> Nota da prova de Ciências da Natureza\n",
    "* NU_NOTA_CH -> Nota da prova de Ciências Humanas\n",
    "* NU_NOTA_LC -> Nota da prova de Linguagens e Códigos\n",
    "* TP_LINGUA -> Língua Estrangeira \n",
    "* NU_NOTA_REDACAO -> Nota da prova de redação\n",
    "* TX_RESPOSTAS_MT -> Vetor com as respostas da parte objetiva da prova de Matemática"
   ]
  },
  {
   "cell_type": "markdown",
   "metadata": {},
   "source": [
    "# Tratamento dos dados"
   ]
  },
  {
   "cell_type": "code",
   "execution_count": 100,
   "metadata": {},
   "outputs": [],
   "source": [
    "# Tratamento dos dados:\n",
    "df_train.NU_NOTA_CN = df_train.NU_NOTA_CN.replace(np.NaN, 0, regex=True)\n",
    "df_train.NU_NOTA_CH = df_train.NU_NOTA_CH.replace(np.NaN, 0, regex=True)\n",
    "df_train.NU_NOTA_LC = df_train.NU_NOTA_LC.replace(np.NaN, 0, regex=True)\n",
    "df_train.NU_NOTA_REDACAO = df_train.NU_NOTA_REDACAO.replace(np.NaN, 0, regex=True)\n",
    "df_test.NU_NOTA_CN = df_test.NU_NOTA_CN.replace(np.NaN, 0, regex=True)\n",
    "df_test.NU_NOTA_CH = df_test.NU_NOTA_CH.replace(np.NaN, 0, regex=True)\n",
    "df_test.NU_NOTA_LC = df_test.NU_NOTA_LC.replace(np.NaN, 0, regex=True)\n",
    "df_test.NU_NOTA_REDACAO = df_test.NU_NOTA_REDACAO.replace(np.NaN, 0, regex=True)"
   ]
  },
  {
   "cell_type": "code",
   "execution_count": 101,
   "metadata": {},
   "outputs": [
    {
     "data": {
      "text/plain": [
       "NU_ANO                     10133\n",
       "CO_MUNICIPIO_RESIDENCIA    10133\n",
       "NO_MUNICIPIO_RESIDENCIA    10133\n",
       "CO_UF_RESIDENCIA           10133\n",
       "SG_UF_RESIDENCIA           10133\n",
       "                           ...  \n",
       "Q046                       10133\n",
       "Q047                       10133\n",
       "Q048                       10133\n",
       "Q049                       10133\n",
       "Q050                       10133\n",
       "Length: 165, dtype: int64"
      ]
     },
     "execution_count": 101,
     "metadata": {},
     "output_type": "execute_result"
    }
   ],
   "source": [
    "# Substituindo NaN por 0 nas notas de matemática:\n",
    "\n",
    "df_train.NU_NOTA_MT = df_train.NU_NOTA_MT.replace(np.NaN, 0)\n",
    "\n",
    "# Retirando pessoas que faltaram a prova de matematica do modelo (TP_PRESENCA_MT):\n",
    "\n",
    "df_train = df_train.loc[df_train.TP_PRESENCA_MT == 1]"
   ]
  },
  {
   "cell_type": "code",
   "execution_count": 105,
   "metadata": {},
   "outputs": [],
   "source": [
    "# Retirando outlies da análise de regressão:\n",
    "\n",
    "# sns.boxplot(df_train.NU_NOTA_REDACAO)\n",
    "df_train = df_train.loc[(df_train.NU_NOTA_CN >= 300) & (df_train.NU_NOTA_CN <= 700)]\n",
    "df_train = df_train.loc[(df_train.NU_NOTA_CH >= 300) & (df_train.NU_NOTA_CH <= 700)]\n",
    "df_train = df_train.loc[(df_train.NU_NOTA_LC >= 300) & (df_train.NU_NOTA_LC <= 700)]\n",
    "df_train = df_train.loc[(df_train.NU_NOTA_REDACAO >= 200) & (df_train.NU_NOTA_REDACAO <= 800)]"
   ]
  },
  {
   "cell_type": "markdown",
   "metadata": {},
   "source": [
    "# Análise descritiva"
   ]
  },
  {
   "cell_type": "code",
   "execution_count": 106,
   "metadata": {},
   "outputs": [],
   "source": [
    "# Gráficos de regressão das variaveis preditoras\n",
    "\n",
    "# sns.scatterplot(df_train.NU_NOTA_CN, df_train.NU_NOTA_MT)\n",
    "# sns.scatterplot(df_train.NU_NOTA_CH, df_train.NU_NOTA_MT)\n",
    "# sns.scatterplot(df_train.NU_NOTA_LC, df_train.NU_NOTA_MT)\n",
    "# sns.scatterplot(df_train.NU_NOTA_REDACAO, df_train.NU_NOTA_MT)"
   ]
  },
  {
   "cell_type": "markdown",
   "metadata": {},
   "source": [
    "# Fase de treino do modelo"
   ]
  },
  {
   "cell_type": "code",
   "execution_count": 8,
   "metadata": {},
   "outputs": [],
   "source": [
    "# Trabalhando com os acertos nas questões de matematica, para predizer utilizando um dummy em cada questão:\n",
    "# df_train['TX_RESPOSTAS_MT'] = df_train.TX_RESPOSTAS_MT.map(lambda x: list(x))\n",
    "# df_train.TX_GABARITO_MT = df_train.TX_GABARITO_MT.map(lambda x: list(x))"
   ]
  },
  {
   "cell_type": "code",
   "execution_count": 9,
   "metadata": {},
   "outputs": [],
   "source": [
    "# Criando um DataFrame \"notas\" com um split das alternativas selecionas pelos alunos e o gabarito\n",
    "# dict_notas = {'respostas': df_train.TX_RESPOSTAS_MT.tolist(), 'gabarito': df_train.TX_GABARITO_MT.tolist()}\n",
    "# df_notas = pd.DataFrame(dict_notas, index=df_train.index)\n",
    "# df_notas[['Q_Resposta'+str(i) for i in range(len(df_train.TX_RESPOSTAS_MT[0]))]] = pd.DataFrame(df_notas.respostas.values.tolist(), index=df_notas.index)\n",
    "# df_notas[['Q_Gabarito'+str(i) for i in range(len(df_train.TX_GABARITO_MT[0]))]] = pd.DataFrame(df_notas.gabarito.values.tolist(), index=df_notas.index)"
   ]
  },
  {
   "cell_type": "code",
   "execution_count": 10,
   "metadata": {},
   "outputs": [],
   "source": [
    "# Criando um dummy para saber quais as questões que o aluno acerto:\n",
    "# df_desempenho = pd.DataFrame()\n",
    "# for i in range(45):\n",
    "#     df_desempenho[\"Q\"+str(i)] = df_notas[\"Q_Resposta\"+str(i)].eq(df_notas[\"Q_Gabarito\"+str(i)]).astype(int)"
   ]
  },
  {
   "cell_type": "code",
   "execution_count": 23,
   "metadata": {},
   "outputs": [],
   "source": [
    "# Regressão considerando as notas das demais provas:\n",
    "\n",
    "# passando os valores de x e y como Dataframes\n",
    "# X = df_desempenho\n",
    "# Y = df_train.NU_NOTA_MT\n",
    "\n",
    "# criando e treinando o modelo\n",
    "# model = LinearRegression()\n",
    "# model.fit(X,Y)\n",
    "\n",
    "# para visualizar os coeficientes encontrados\n",
    "# print(model.coef_)\n",
    "\n",
    "# para visualizar o R²\n",
    "# print(model.score(X,Y))\n",
    "\n",
    "# mostrando as previsões para o mesmo conjunto passado\n",
    "# predict = pd.Series(model.predict(X),index=df_train.index, name=\"Predict\")"
   ]
  },
  {
   "cell_type": "code",
   "execution_count": 12,
   "metadata": {},
   "outputs": [],
   "source": [
    "# df_result = pd.concat([Y, predict], axis=1)\n",
    "# df_result[\"Erro_predicao1\"] = df_result.NU_NOTA_MT - df_result.Predict"
   ]
  },
  {
   "cell_type": "code",
   "execution_count": 111,
   "metadata": {},
   "outputs": [],
   "source": [
    "# Regressão do erro gerado considerando as notas das demais provas:\n",
    "\n",
    "# passando os valores de x e y como Dataframes\n",
    "X = df_train.loc[:,[\"NU_NOTA_CN\",\"NU_NOTA_CH\",\"NU_NOTA_LC\",\"NU_NOTA_REDACAO\"]]\n",
    "Y = df_train.NU_NOTA_MT\n",
    "\n",
    "# criando e treinando o modelo\n",
    "model = LinearRegression()\n",
    "model.fit(X,Y)\n",
    "\n",
    "# para visualizar os coeficientes encontrados\n",
    "# print(model.coef_)\n",
    "\n",
    "# para visualizar o R²\n",
    "# print(model.score(X,Y))\n",
    "\n",
    "# mostrando as previsões para o mesmo conjunto passado\n",
    "predict_train = pd.Series(model.predict(X),index=df_train.index, name=\"Predict\")"
   ]
  },
  {
   "cell_type": "code",
   "execution_count": 114,
   "metadata": {},
   "outputs": [],
   "source": [
    "df_result = pd.DataFrame()\n",
    "df_result[\"Predict\"] = predict_train"
   ]
  },
  {
   "cell_type": "code",
   "execution_count": 115,
   "metadata": {},
   "outputs": [
    {
     "data": {
      "text/plain": [
       "<matplotlib.axes._subplots.AxesSubplot at 0x7fd8bc6a7438>"
      ]
     },
     "execution_count": 115,
     "metadata": {},
     "output_type": "execute_result"
    },
    {
     "data": {
      "image/png": "[encoded data removed]",
      "text/plain": [
       "<Figure size 432x288 with 1 Axes>"
      ]
     },
     "metadata": {
      "needs_background": "light"
     },
     "output_type": "display_data"
    }
   ],
   "source": [
    "df_result[\"Erro_predicao\"] = Y - df_result.Predict\n",
    "sns.distplot(df_result.Erro_predicao)"
   ]
  },
  {
   "cell_type": "markdown",
   "metadata": {},
   "source": [
    "# Fase de teste do modelo"
   ]
  },
  {
   "cell_type": "code",
   "execution_count": 116,
   "metadata": {},
   "outputs": [],
   "source": [
    "df_resposta = pd.DataFrame()\n",
    "X_test = df_test.loc[:,[\"NU_NOTA_CN\",\"NU_NOTA_CH\",\"NU_NOTA_LC\",\"NU_NOTA_REDACAO\"]]"
   ]
  },
  {
   "cell_type": "code",
   "execution_count": 118,
   "metadata": {},
   "outputs": [],
   "source": [
    "predict_test = pd.Series(model.predict(X_test),index=df_test.index, name=\"NU_NOTA_MT\")\n",
    "df_resposta[\"NU_NOTA_MT\"] = predict_test\n",
    "df_resposta.to_csv(\"answer.csv\")"
   ]
  }
 ],
 "metadata": {
  "kernelspec": {
   "display_name": "Python 3",
   "language": "python",
   "name": "python3"
  },
  "language_info": {
   "codemirror_mode": {
    "name": "ipython",
    "version": 3
   },
   "file_extension": ".py",
   "mimetype": "text/x-python",
   "name": "python",
   "nbconvert_exporter": "python",
   "pygments_lexer": "ipython3",
   "version": "3.7.3"
  }
 },
 "nbformat": 4,
 "nbformat_minor": 4
}
